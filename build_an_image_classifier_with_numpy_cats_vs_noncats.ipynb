{
 "cells": [
  {
   "cell_type": "markdown",
   "metadata": {},
   "source": [
    "# Cat vs Non-cat Classifier using Numpy\n",
    "This project was a part of **Data Science Specialization** by **E&ICT ACADEMY IIT ROORKEE** and [**CLOUDXLAB**](http://cloudxlab.com/). In this project, we will build a cat vs non-cat classifier using logistic regression. We will only use numpy in this exercise. No other package like tensorflow or keras is used here. This serves as a **good exercise for numpy.**\n",
    "\n",
    "We are given a set of images of cats and other animals."
   ]
  },
  {
   "cell_type": "code",
   "execution_count": 1,
   "metadata": {},
   "outputs": [],
   "source": [
    "# import the libraries\n",
    "import numpy as np\n",
    "import matplotlib.pyplot as plt\n",
    "import h5py"
   ]
  },
  {
   "cell_type": "markdown",
   "metadata": {},
   "source": [
    "### About the Dataset\n",
    "Dataset is in .h5 file. It is a file format that could store the data - along with its meta-data - in the form of a hierarchy. Import h5py to interact with a dataset that is stored in an H5 file. It contains\n",
    "\n",
    "1. train_catvnoncat.h5 - a training set of images labeled as cat (y=1) or non-cat (y=0)\n",
    "2. test_catvnoncat.h5 - a test set of images labeled as cat or non-cat\n",
    "3. Each image is of shape (num_px, num_px, 3) where 3 is for the 3 channels (RGB). Thus, each image is square (height = num_px) and (width = num_px)\n",
    "\n",
    "Now, let us load the dataset into our working session."
   ]
  },
  {
   "cell_type": "code",
   "execution_count": 2,
   "metadata": {},
   "outputs": [
    {
     "name": "stdout",
     "output_type": "stream",
     "text": [
      "File format of train_dataset: <HDF5 file \"train_catvnoncat.h5\" (mode r)>\n",
      "File format of test_dataset: <HDF5 file \"test_catvnoncat.h5\" (mode r)>\n"
     ]
    }
   ],
   "source": [
    "# load the dataset\n",
    "train_dataset = h5py.File(r'C:\\Users\\Pranav Shetty\\Downloads\\Cloudxlabs practice\\datasets\\cat-non-cat\\train_catvnoncat.h5', \"r\")\n",
    "\n",
    "test_dataset = h5py.File(r'C:\\Users\\Pranav Shetty\\Downloads\\Cloudxlabs practice\\datasets\\cat-non-cat\\test_catvnoncat.h5', \"r\")\n",
    "\n",
    "print(\"File format of train_dataset:\",train_dataset)\n",
    "print(\"File format of test_dataset:\",test_dataset)"
   ]
  },
  {
   "cell_type": "markdown",
   "metadata": {},
   "source": [
    "The **train_dataset** and **test_dataset** are HDF5 file objects. They have the data stored in a hierarchical format. Let us access the data and store it in form of numpy array as follows:"
   ]
  },
  {
   "cell_type": "code",
   "execution_count": 3,
   "metadata": {},
   "outputs": [],
   "source": [
    "train_set_x_orig = np.array(train_dataset[\"train_set_x\"][:]) # train set features\n",
    "train_set_y_orig = np.array(train_dataset[\"train_set_y\"][:]) # train set labels\n",
    "\n",
    "test_set_x_orig = np.array(test_dataset[\"test_set_x\"][:]) # test set features\n",
    "test_set_y_orig = np.array(test_dataset[\"test_set_y\"][:]) # test set labels"
   ]
  },
  {
   "cell_type": "code",
   "execution_count": 4,
   "metadata": {},
   "outputs": [],
   "source": [
    "# # Another way to handle h5py files\n",
    "\n",
    "# # load the dataset\n",
    "# train_dataset = h5py.File('/cxldata/datasets/project/cat-non-cat/train_catvnoncat.h5', \"r\")\n",
    "\n",
    "# test_dataset = h5py.File('/cxldata/datasets/project/cat-non-cat/test_catvnoncat.h5', \"r\")\n",
    "\n",
    "\n",
    "# # To see what data is in this file, we can call the keys() method on \n",
    "# # the file object.\n",
    "# print(train_dataset.keys())\n",
    "# print(test_dataset.keys())\n",
    "\n",
    "# # grab each dataset using the \"get\" method, specifying the key, then convert\n",
    "# # them into numpy array. After everything close the file object.\n",
    "# train_set_x_orig = np.array(train_dataset.get(\"train_set_x\")) # train set features\n",
    "# train_set_y_orig = np.array(train_dataset.get(\"train_set_y\")) # train set labels\n",
    "\n",
    "# test_set_x_orig = np.array(test_dataset.get(\"test_set_x\")) # test set features\n",
    "# test_set_y_orig = np.array(test_dataset.get(\"test_set_y\")) # test set labels\n",
    "\n",
    "# train_dataset.close()\n",
    "# test_dataset.close()"
   ]
  },
  {
   "cell_type": "code",
   "execution_count": 5,
   "metadata": {},
   "outputs": [
    {
     "data": {
      "text/plain": [
       "209"
      ]
     },
     "execution_count": 5,
     "metadata": {},
     "output_type": "execute_result"
    }
   ],
   "source": [
    "len(train_set_x_orig)"
   ]
  },
  {
   "cell_type": "code",
   "execution_count": 6,
   "metadata": {},
   "outputs": [
    {
     "data": {
      "text/plain": [
       "50"
      ]
     },
     "execution_count": 6,
     "metadata": {},
     "output_type": "execute_result"
    }
   ],
   "source": [
    "len(test_set_x_orig)"
   ]
  },
  {
   "cell_type": "code",
   "execution_count": 7,
   "metadata": {},
   "outputs": [
    {
     "data": {
      "text/plain": [
       "(209,)"
      ]
     },
     "execution_count": 7,
     "metadata": {},
     "output_type": "execute_result"
    }
   ],
   "source": [
    "train_set_y_orig.shape"
   ]
  },
  {
   "cell_type": "markdown",
   "metadata": {},
   "source": [
    "### Split the data\n",
    "We split the test data in order to use a part of it for validation purposes. After that, let us have a look at the shape of the train, validation, and test datasets.\n",
    "\n",
    "**Note:**\n",
    "\n",
    "np.squeeze() function is used when we want to remove single-dimensional entries from the shape of an array."
   ]
  },
  {
   "cell_type": "code",
   "execution_count": 8,
   "metadata": {},
   "outputs": [
    {
     "name": "stdout",
     "output_type": "stream",
     "text": [
      "[1 2 3 4]\n",
      "\n",
      "\n",
      "[[[1 2]\n",
      "  [3 4]]]\n",
      "\n",
      "\n",
      "[[1 2]\n",
      " [3 4]]\n",
      "\n",
      "\n",
      "(2, 2)\n"
     ]
    }
   ],
   "source": [
    "# SPLIT the data for validation\n",
    "# example for squeeze()\n",
    "arr = np.arange(1,5)\n",
    "print(arr)\n",
    "print('\\n')\n",
    "arr = arr.reshape(1,2,2)\n",
    "print(arr)\n",
    "print('\\n')\n",
    "arr_squeezed = np.squeeze(arr)\n",
    "print(arr_squeezed)\n",
    "print('\\n')\n",
    "print(arr_squeezed.shape)"
   ]
  },
  {
   "cell_type": "code",
   "execution_count": 9,
   "metadata": {},
   "outputs": [
    {
     "name": "stdout",
     "output_type": "stream",
     "text": [
      "Validation data shape:  (25, 64, 64, 3)\n",
      "Test data shape:  (25, 64, 64, 3)\n"
     ]
    }
   ],
   "source": [
    "# test data contains 50 samples.\n",
    "validation_x = test_set_x_orig[:25]\n",
    "validation_y = train_set_y_orig[:25]\n",
    "print(\"Validation data shape: \",validation_x.shape)\n",
    "\n",
    "test_set_x = test_set_x_orig[25:]\n",
    "test_set_y = test_set_y_orig[25:]\n",
    "print(\"Test data shape: \", test_set_x.shape)"
   ]
  },
  {
   "cell_type": "code",
   "execution_count": 10,
   "metadata": {},
   "outputs": [
    {
     "name": "stdout",
     "output_type": "stream",
     "text": [
      "Number of training examples: m_train = 209\n",
      "Number of validation examples: m_test = 25\n",
      "Number of testing examples: m_test = 25\n",
      "Height/Width of each image: num_px = 64\n",
      "Each image is of size: (64, 64, 3)\n"
     ]
    }
   ],
   "source": [
    "m_train = np.squeeze(train_set_y_orig.shape) \n",
    "m_val = np.squeeze(validation_y.shape)\n",
    "m_test = np.squeeze(test_set_y.shape)\n",
    "num_px = train_set_x_orig.shape[1]\n",
    "\n",
    "print (\"Number of training examples: m_train = \" + str(m_train))\n",
    "print (\"Number of validation examples: m_test = \" + str(m_val))\n",
    "print (\"Number of testing examples: m_test = \" + str(m_test))\n",
    "print (\"Height/Width of each image: num_px = \" + str(num_px))\n",
    "print (\"Each image is of size: (\" + str(num_px) + \", \" + str(num_px) + \", 3)\")"
   ]
  },
  {
   "cell_type": "code",
   "execution_count": 11,
   "metadata": {},
   "outputs": [],
   "source": [
    "# temp = train_set_y_orig.shape[0] or len(train_set_y_orig)\n",
    "# print(temp)"
   ]
  },
  {
   "cell_type": "code",
   "execution_count": 12,
   "metadata": {},
   "outputs": [
    {
     "name": "stdout",
     "output_type": "stream",
     "text": [
      "[[[ 1  2  3  4  5  6  7  8  9 10]]\n",
      "\n",
      " [[11 12 13 14 15 16 17 18 19 20]]]\n",
      "\n",
      "\n",
      "[[ 1  2  3  4  5  6  7  8  9 10]\n",
      " [11 12 13 14 15 16 17 18 19 20]]\n",
      "\n",
      "\n"
     ]
    },
    {
     "data": {
      "text/plain": [
       "(2, 10)"
      ]
     },
     "execution_count": 12,
     "metadata": {},
     "output_type": "execute_result"
    }
   ],
   "source": [
    "arr = np.arange(1,21)\n",
    "arr = arr.reshape(2,1,10)\n",
    "print(arr)\n",
    "print(\"\\n\")\n",
    "arr_sq = np.squeeze(arr)\n",
    "print(arr_sq)\n",
    "print(\"\\n\")\n",
    "arr_sq.shape"
   ]
  },
  {
   "cell_type": "markdown",
   "metadata": {},
   "source": [
    "### Explore the dataset\n",
    "Visualize the Data\n",
    "The classes of the images in the datasets are cat and non-cat. These labels of each sample are stored in train_set_y_orig, validation_y and test_set_y, where 1 means 'cat' and 0 means 'non-cat'. Let us see how to get this info Pythonically:"
   ]
  },
  {
   "cell_type": "code",
   "execution_count": 13,
   "metadata": {},
   "outputs": [
    {
     "name": "stdout",
     "output_type": "stream",
     "text": [
      "Classes are:  [b'non-cat' b'cat']\n",
      "Groundtruth stored as:  1\n",
      "cat\n"
     ]
    },
    {
     "data": {
      "text/plain": [
       "<matplotlib.image.AxesImage at 0x2080cc676c8>"
      ]
     },
     "execution_count": 13,
     "metadata": {},
     "output_type": "execute_result"
    },
    {
     "data": {
      "image/png": "[encoded data removed]",
      "text/plain": [
       "<Figure size 432x288 with 1 Axes>"
      ]
     },
     "metadata": {
      "needs_background": "light"
     },
     "output_type": "display_data"
    }
   ],
   "source": [
    "# The following code gets the classes from the data set. We will be printing the classes, \n",
    "# how the labels of the classes are stored in the data set. Then, we will be plotting the image.\n",
    "classes = np.array(test_dataset[\"list_classes\"][:])\n",
    "# classes = np.array(test_dataset.get(\"list_classes\")\n",
    "print(\"Classes are: \",classes)\n",
    "print(\"Groundtruth stored as: \",train_set_y_orig[2])\n",
    "print(classes[train_set_y_orig[2]].decode('utf-8'))\n",
    "\n",
    "plt.imshow(train_set_x_orig[2])"
   ]
  },
  {
   "cell_type": "markdown",
   "metadata": {},
   "source": [
    "Let us take a look at the shape of the train set, validation set, and test set."
   ]
  },
  {
   "cell_type": "code",
   "execution_count": 14,
   "metadata": {},
   "outputs": [
    {
     "name": "stdout",
     "output_type": "stream",
     "text": [
      "train_set_x shape:  (209, 64, 64, 3)\n",
      "train_set_y shape:  (209,)\n"
     ]
    }
   ],
   "source": [
    "print(\"train_set_x shape: \", train_set_x_orig.shape)\n",
    "print(\"train_set_y shape: \", train_set_y_orig.shape)"
   ]
  },
  {
   "cell_type": "code",
   "execution_count": 15,
   "metadata": {},
   "outputs": [
    {
     "name": "stdout",
     "output_type": "stream",
     "text": [
      "Validation data size:  (25, 64, 64, 3)\n",
      "Validation data size:  (25,)\n"
     ]
    }
   ],
   "source": [
    "print(\"Validation data size: \", validation_x.shape)\n",
    "print(\"Validation data size: \", validation_y.shape)"
   ]
  },
  {
   "cell_type": "code",
   "execution_count": 16,
   "metadata": {},
   "outputs": [
    {
     "name": "stdout",
     "output_type": "stream",
     "text": [
      "test_set_x shape:  (25, 64, 64, 3)\n",
      "test_set_y shape:  (25,)\n"
     ]
    }
   ],
   "source": [
    "print(\"test_set_x shape: \", test_set_x.shape)\n",
    "print(\"test_set_y shape: \", test_set_y.shape)"
   ]
  },
  {
   "cell_type": "markdown",
   "metadata": {},
   "source": [
    "### Reshaping the data\n",
    "We need to reshape the data in a way compatible to be fed to our Machine Learning Algorithm - Logistic Regression Classifier.\n",
    "\n",
    "Now, let us reshape the images to a flat vector of shape (height x width x 3, 1). This could be done by using **reshape(train_set_x_orig.shape[0],-1).**\n",
    "\n",
    "**-1** in reshape function is used when you don't want to explicitly tell the dimension of that axis.\n",
    "\n",
    "E.g, here, we want each of the 209 samples in the train set to be represented as a single vector of shape (height x width x 3).\n",
    "\n",
    "By writing **train_set_x_orig.reshape(train_set_x_orig.shape[0], -1)**, the array will get reshaped in such a way that the resulting array has 209 rows and this is only possible by having (height x width x 3) columns, hence, (height x width x 3,209).\n",
    "\n",
    "We then transpose the matrix by using **train_set_x_orig.reshape(train_set_x_orig.shape[0], -1).T**"
   ]
  },
  {
   "cell_type": "code",
   "execution_count": 17,
   "metadata": {},
   "outputs": [],
   "source": [
    "# Reshape the data\n",
    "train_set_x_flatten = train_set_x_orig.reshape(train_set_x_orig.shape[0], -1).T\n",
    "validation_x_flatten = validation_x.reshape(validation_x.shape[0],-1).T\n",
    "test_set_x_flatten = test_set_x.reshape(test_set_x.shape[0],-1).T"
   ]
  },
  {
   "cell_type": "code",
   "execution_count": 18,
   "metadata": {},
   "outputs": [
    {
     "name": "stdout",
     "output_type": "stream",
     "text": [
      "train_set_x_flatten shape:  (12288, 209)\n",
      "train_set_y shape:  (209,)\n",
      "validation_x_flatten shape:  (12288, 25)\n",
      "validation_y shape:  (25,)\n",
      "test_set_x_flatten shape:  (12288, 25)\n",
      "test_set_y shape:  (25,)\n"
     ]
    }
   ],
   "source": [
    "print (\"train_set_x_flatten shape: \", train_set_x_flatten.shape)\n",
    "print (\"train_set_y shape: \", train_set_y_orig.shape)\n",
    "\n",
    "print (\"validation_x_flatten shape: \", validation_x_flatten.shape)\n",
    "print (\"validation_y shape: \", validation_y.shape)\n",
    "\n",
    "print (\"test_set_x_flatten shape: \", test_set_x_flatten.shape)\n",
    "print (\"test_set_y shape: \", test_set_y.shape)"
   ]
  },
  {
   "cell_type": "markdown",
   "metadata": {},
   "source": [
    "### Feature Scaling\n",
    "The values of the pixels in RGB images range from 0 to 255.\n",
    "\n",
    "So, we need to apply Scaling to these features values for our ML algorithms to work fine on them.\n",
    "After scaling, all the values will be spread in the range of 0 to 1.\n",
    "\n",
    "**Note:**\n",
    "\n",
    "min() returns the minimum value of the NumPy array upon which it is called.\n",
    "\n",
    "max() returns the maximum value of the NumPy array upon which it is called."
   ]
  },
  {
   "cell_type": "code",
   "execution_count": 19,
   "metadata": {},
   "outputs": [
    {
     "name": "stdout",
     "output_type": "stream",
     "text": [
      "Original Min value:  0\n",
      "Original Max value:  255\n"
     ]
    }
   ],
   "source": [
    "#Print the minimum and maximum values of the pixels in train data.\n",
    "print(\"Original Min value: \",train_set_x_flatten.reshape(1,-1).min())\n",
    "print(\"Original Max value: \",train_set_x_flatten.reshape(1,-1).max())"
   ]
  },
  {
   "cell_type": "code",
   "execution_count": 20,
   "metadata": {},
   "outputs": [],
   "source": [
    "#Scale the dataset values by dividing them with 255.\n",
    "train_set_x = train_set_x_flatten / 255.\n",
    "validation_set_x = validation_x_flatten / 255.\n",
    "test_set_x = test_set_x_flatten / 255."
   ]
  },
  {
   "cell_type": "code",
   "execution_count": 21,
   "metadata": {
    "scrolled": true
   },
   "outputs": [
    {
     "name": "stdout",
     "output_type": "stream",
     "text": [
      "Standardized Min value:  0.0\n",
      "Standardized Max value:  1.0\n"
     ]
    }
   ],
   "source": [
    "# print the minimum and maximum values of the pixels in standardized train data.\n",
    "print(\"Standardized Min value: \",train_set_x.reshape(1,-1).min())\n",
    "print(\"Standardized Max value: \",train_set_x.reshape(1,-1).max())"
   ]
  },
  {
   "cell_type": "markdown",
   "metadata": {},
   "source": [
    "### Defining some utility functions\n",
    "As a workflow, we shall first define the helper functions to be used in our holistic algorithm.\n",
    "\n",
    "We are going to define the following functions.\n",
    "\n",
    "- Sigmoid Function - calculates the sigmoid activation function\n",
    "- Initialize Weights - initializes the weights and bias values to zeros, upon which we update those values through optimization\n",
    "- Forward propagation - returns activations and cost\n",
    "- Backward propagation - returns the gradients(derivatives) of weights and bias\n",
    "- Propagate - implements the forward and backward propagation by calling the corresponding functions\n",
    "- Predict - predicts the labels\n",
    "- Get Accuracies - calculates the accuracies of predictions of the model\n",
    "- Optimize - gets the optimal weights and biases\n",
    "- Model - the main function to train the algorithm and get the final model for classification"
   ]
  },
  {
   "attachments": {
    "image.png": {
     "image/png": "[encoded data removed]"
    }
   },
   "cell_type": "markdown",
   "metadata": {},
   "source": [
    "### Sigmoid Function\n",
    "As we know, we use sigmoid activation function in logistic regression to introduce non-linearity to the decision curve. All the negative extreme values will be squashed towards 0, while the positive extreme values will be squashed towards 1. The value of sigmoid(0) is 0.5.\n",
    "\n",
    "![image.png](attachment:image.png)\n",
    "\n",
    "**Note:**\n",
    "\n",
    "- np.exp() calculates the exponent value of each element of the input array.\n",
    "\n",
    "- np.linspace(a,b,n) returns a NumPy array with n equally spaced elements, and a and b are respectively the first and last elements in the resultant array."
   ]
  },
  {
   "cell_type": "code",
   "execution_count": 22,
   "metadata": {},
   "outputs": [],
   "source": [
    "def sigmoid(z):\n",
    "    s = 1 / (1 + np.exp(-z))\n",
    "    return s"
   ]
  },
  {
   "cell_type": "markdown",
   "metadata": {},
   "source": [
    "Example of sigmoid function"
   ]
  },
  {
   "cell_type": "code",
   "execution_count": 23,
   "metadata": {},
   "outputs": [],
   "source": [
    "z = np.linspace(-10,10,2000000)"
   ]
  },
  {
   "cell_type": "code",
   "execution_count": 24,
   "metadata": {},
   "outputs": [],
   "source": [
    "sigmoid_z = sigmoid(z)"
   ]
  },
  {
   "cell_type": "code",
   "execution_count": 25,
   "metadata": {},
   "outputs": [
    {
     "data": {
      "image/png": "[encoded data removed]",
      "text/plain": [
       "<Figure size 432x288 with 1 Axes>"
      ]
     },
     "metadata": {
      "needs_background": "light"
     },
     "output_type": "display_data"
    }
   ],
   "source": [
    "plt.plot(z, sigmoid_z) \n",
    "plt.xlabel(\"z\") \n",
    "plt.ylabel(\"Sigmoid(z)\") \n",
    "plt.show()"
   ]
  },
  {
   "cell_type": "markdown",
   "metadata": {},
   "source": [
    "### Defining some utility functions - Initializing Weights\n",
    "The weights matrix should be of size (1,12288) so that the transpose matrix of the weights would be of shape (12288,1).\n",
    "\n",
    "Since the shape of our dataset is (12288,209), it would satisfy the equation np.dot(w.T,X).\n",
    "\n",
    "So, let us now aim to initialize our weight matrix with some random numbers and bias vector with 0s.\n",
    "\n",
    "**Note:**\n",
    "\n",
    "- np.dot(a,b) calculates the dot product of the two vectors a and b.\n",
    "- np.random.seed(0) makes sure that the same set of random numbers are generated, no matter how many times the code is run.\n",
    "- Using np.random.rand, we could generate a matrix of any given shape filled with some random numbers ranging in [0, 1).\n",
    "\n",
    "Eg, if we wish to create a 3-dimensional NumPy array containing random numbers and of shape (2,2,2), we could do that by:\n",
    "\n",
    "random_3d_array = np.random.rand(2,2,2)\n",
    "\n",
    "print(random_3d_array)"
   ]
  },
  {
   "cell_type": "markdown",
   "metadata": {},
   "source": [
    "Create a weight matrix using **np.random.rand** to get a matrix of shape **(dim,1)**, filled with random numbers between 0 and 1."
   ]
  },
  {
   "cell_type": "code",
   "execution_count": 26,
   "metadata": {},
   "outputs": [],
   "source": [
    "def initialize_weights(dim):\n",
    "    np.random.seed(0)\n",
    "    w = np.random.rand(dim, 1)\n",
    "    b = 0    \n",
    "    return w, b"
   ]
  },
  {
   "cell_type": "code",
   "execution_count": 27,
   "metadata": {},
   "outputs": [
    {
     "name": "stdout",
     "output_type": "stream",
     "text": [
      "Weights:  [[0.5488135 ]\n",
      " [0.71518937]]\n",
      "Biases:  0\n"
     ]
    }
   ],
   "source": [
    "# example\n",
    "dim = 2\n",
    "w, b = initialize_weights(dim)\n",
    "\n",
    "print(\"Weights: \",w)\n",
    "print(\"Biases: \", b)"
   ]
  },
  {
   "cell_type": "markdown",
   "metadata": {},
   "source": [
    "### Defining some utility functions - Forward Propagation\n",
    "In forward propagation, we aim to calculate the activations and cost.\n",
    "\n",
    "To calculate activations, we need to follow 2 steps for that:\n",
    "\n",
    "- Calculate the dot product of X and w.T, add then b.\n",
    "\n",
    "- Pass the above-obtained result to the sigmoid function.\n",
    "\n",
    "To compute the cost, we:\n",
    "\n",
    "1. Calculate the product of Y and np.log(A)\n",
    "2. Calculate the product of (1-Y) and np.log(1-A)\n",
    "3. Add the results of the above 2 steps.\n",
    "4. Divide the negative of the result obtained in the third step with m, the total samples of the trainset.\n",
    "\n",
    "**Note:**\n",
    "\n",
    "- **np.log** calculates the natural logarithm of all the elements in the array.\n",
    "\n",
    "- **np.dot(a,b)** calculates the dot product of the two vectors a and b.\n",
    "\n",
    "- **np.sum(x)** calculates the sum of elements in the input array."
   ]
  },
  {
   "cell_type": "code",
   "execution_count": 28,
   "metadata": {},
   "outputs": [
    {
     "data": {
      "text/plain": [
       "list"
      ]
     },
     "execution_count": 28,
     "metadata": {},
     "output_type": "execute_result"
    }
   ],
   "source": [
    "x = [1,2,3]\n",
    "type(x)"
   ]
  },
  {
   "cell_type": "code",
   "execution_count": 29,
   "metadata": {},
   "outputs": [
    {
     "data": {
      "text/plain": [
       "array([0.        , 0.69314718, 1.09861229])"
      ]
     },
     "execution_count": 29,
     "metadata": {},
     "output_type": "execute_result"
    }
   ],
   "source": [
    "x_log = np.log(x)\n",
    "x_log"
   ]
  },
  {
   "cell_type": "code",
   "execution_count": 30,
   "metadata": {},
   "outputs": [
    {
     "name": "stdout",
     "output_type": "stream",
     "text": [
      "(2, 2)\n",
      "(2, 2)\n",
      "[[ 70 100]\n",
      " [150 220]]\n"
     ]
    }
   ],
   "source": [
    "a = np.array([[1,2],[3,4]]) \n",
    "b = np.array([[10,20],[30,40]]) \n",
    "print(a.shape)\n",
    "print(b.shape)\n",
    "c = np.dot(a,b)\n",
    "print(c)"
   ]
  },
  {
   "cell_type": "code",
   "execution_count": 31,
   "metadata": {},
   "outputs": [],
   "source": [
    "ones_array = np.ones(shape=(4,4))"
   ]
  },
  {
   "cell_type": "code",
   "execution_count": 32,
   "metadata": {},
   "outputs": [],
   "source": [
    "sum_of_ones_array = np.sum(ones_array)"
   ]
  },
  {
   "cell_type": "markdown",
   "metadata": {},
   "source": [
    "The **forward_prop** function below, calculates the activations **A** and the cross-entropy cost **cost**"
   ]
  },
  {
   "cell_type": "code",
   "execution_count": 33,
   "metadata": {},
   "outputs": [],
   "source": [
    "def forward_prop(w, b, X, Y):\n",
    "\n",
    "    # calculate activations\n",
    "    z = np.dot(w.T, X) + b\n",
    "    A = sigmoid(z)\n",
    "\n",
    "    # calculate cost\n",
    "    m = X.shape[1]\n",
    "    cost = (-1/m) * np.sum(Y * np.log(A) + (1-Y) * (np.log(1-A)))\n",
    "    cost = np.squeeze(cost)\n",
    "\n",
    "    return A, cost"
   ]
  },
  {
   "cell_type": "markdown",
   "metadata": {},
   "source": [
    "### Defining some utility functions - Back Propagation\n",
    "In backward propagation, we calculate the derivatives of weights and bias.\n",
    "\n",
    "We compute the gradient of weights by:\n",
    "\n",
    "- calculating the dot product of X and (A-Y).T\n",
    "\n",
    "- dividing the result by m, the total number of samples in the dataset.\n",
    "\n",
    "We compute the gradient of bias by:\n",
    "\n",
    "- calculating the np.sum(A-Y)\n",
    "\n",
    "- dividing the result by m, the total number of samples in the dataset.\n",
    "\n",
    "**Note:**\n",
    "\n",
    "**np.dot(a,b)** calculates the dot product of the two vectors a and b.\n",
    "\n",
    "**np.sum(x)** calculates the sum of elements in the input array."
   ]
  },
  {
   "cell_type": "code",
   "execution_count": 34,
   "metadata": {},
   "outputs": [],
   "source": [
    "def back_prop(X, A, Y):\n",
    "\n",
    "    # calculate gradients for w,b\n",
    "    m = X.shape[1]\n",
    "    dw = (1/m) * np.dot(X, (A-Y).T)\n",
    "    db = (1/m) * np.sum(A-Y)\n",
    "\n",
    "    grads = {'dw': dw, 'db': db}\n",
    "\n",
    "    return grads"
   ]
  },
  {
   "cell_type": "markdown",
   "metadata": {},
   "source": [
    "### Defining some utility functions - Propagate\n",
    "The forward and backward propagation are important steps to get the gradients and costs in the process of training our algorithm.\n",
    "\n",
    "In the forward propagation, we calculate the dot product of the feature vector, ie X and the weights matrix, and then the resultant is added with the bias vector. Next, the sigmoid function is applied to get the activations and the cost is calculated.\n",
    "\n",
    "In backward propagation, we calculate the gradients of the weights and bias matrices.\n",
    "\n",
    "Let us use **propagate** function which calls both the **forward_prop** and **back_prop** functions."
   ]
  },
  {
   "cell_type": "code",
   "execution_count": 35,
   "metadata": {},
   "outputs": [],
   "source": [
    "def propagate(w, b, X, Y):\n",
    "\n",
    "    #Forward propagation\n",
    "    A, cost = forward_prop(w, b, X, Y)\n",
    "\n",
    "    #Backward propagation\n",
    "    grads = back_prop(X, A, Y)\n",
    "\n",
    "    return grads, cost"
   ]
  },
  {
   "cell_type": "code",
   "execution_count": 36,
   "metadata": {},
   "outputs": [],
   "source": [
    "# example\n",
    "w, b, X, Y = np.array([[1], [2]]), 2, np.array([[1,2], [3,4]]), np.array([[1, 0]])\n",
    "grads, cost = propagate(w, b, X, Y)"
   ]
  },
  {
   "cell_type": "markdown",
   "metadata": {},
   "source": [
    "### Defining some utility functions - Predict\n",
    "This function predicts the labels of the dataset by calling the sigmoid function.\n",
    "\n",
    "The prediction for a sample is given out as\n",
    "\n",
    "- 1 if the sigmoid function returns a value greater than 0.5\n",
    "- 0 if the sigmoid function returns a value lesser than 0.5"
   ]
  },
  {
   "cell_type": "code",
   "execution_count": 37,
   "metadata": {},
   "outputs": [],
   "source": [
    "def predict(w, b, X):\n",
    "    m = X.shape[1]\n",
    "    Y_prediction = np.zeros((1, m))\n",
    "    w = w.reshape(X.shape[0], 1)\n",
    "\n",
    "    #Compute probability vector\n",
    "    A = sigmoid(np.dot(w.T, X) + b)\n",
    "\n",
    "    for i in range(A.shape[1]):\n",
    "        Y_prediction[0, i] = 1 if A[0, i] > 0.5 else 0\n",
    "\n",
    "    return Y_prediction"
   ]
  },
  {
   "cell_type": "markdown",
   "metadata": {},
   "source": [
    "### Defining some utility functions - Get Accuracies\n",
    "Let us now implement the function which calculates the accuracy. This function takes as arguments the predicted labels and the actuals of the corresponding dataset.\n",
    "\n",
    "We do this in 2 steps:\n",
    "\n",
    "- Using **np.abs(Y_predicted - Y_actual)**, we calculate the absolute difference between the actual labels and predicted labels.\n",
    "\n",
    "- Then, we use **np.mean()** and calculate accuracy.\n",
    "\n",
    "**Note:**\n",
    "\n",
    "- np.abs gets the absolute value of each element in the input array.\n",
    "\n",
    "- np.mean returns the mean of the elements in the input array."
   ]
  },
  {
   "cell_type": "code",
   "execution_count": 38,
   "metadata": {},
   "outputs": [
    {
     "name": "stdout",
     "output_type": "stream",
     "text": [
      "y_actual : [1 1 1 0 1]\n",
      "y_predicted : [1 0 0 0 1]\n"
     ]
    }
   ],
   "source": [
    "# Example. Assume y_actual and y_predicted are the actual labels and predicted labels respectively.\n",
    "y_actual = np.array([1,1,1,0,1])\n",
    "print(\"y_actual :\", y_actual )\n",
    "\n",
    "y_predicted = np.array([1,0,0,0,1])\n",
    "print(\"y_predicted :\", y_predicted )"
   ]
  },
  {
   "cell_type": "code",
   "execution_count": 39,
   "metadata": {},
   "outputs": [],
   "source": [
    "c = np.abs(y_actual - y_predicted)"
   ]
  },
  {
   "cell_type": "code",
   "execution_count": 40,
   "metadata": {},
   "outputs": [],
   "source": [
    "c_mean = np.mean(c)"
   ]
  },
  {
   "cell_type": "code",
   "execution_count": 41,
   "metadata": {},
   "outputs": [],
   "source": [
    "accuracy = 100 - (c_mean * 100)"
   ]
  },
  {
   "cell_type": "code",
   "execution_count": 42,
   "metadata": {},
   "outputs": [],
   "source": [
    "def get_accuracies(Y_predicted, Y_actual):\n",
    "    abs_diff = np.abs(Y_predicted - Y_actual)\n",
    "    accuracy = 100 - np.mean(abs_diff) * 100\n",
    "    return accuracy"
   ]
  },
  {
   "cell_type": "markdown",
   "metadata": {},
   "source": [
    "### Defining some utility functions - Optimize\n",
    "The Optimize function:\n",
    "\n",
    "- implements both the forward and backward propagations by calling the propagate function for each iteration.\n",
    "- updates the weights and bias matrices based on the gradients received from the propagate function.\n",
    "- predicts the labels for train and test datasets by calling the predict function\n",
    "- calculates the accuracies\n",
    "- returns the parameter values that yield the optimal test accuracies."
   ]
  },
  {
   "cell_type": "code",
   "execution_count": 43,
   "metadata": {},
   "outputs": [],
   "source": [
    "def optimize(w, b, X, Y, X_val, Y_val, num_iterations, learning_rate):\n",
    "    prev_train_acc=0\n",
    "    prev_val_acc=0\n",
    "    costs=[]\n",
    "    epoch=0\n",
    "    final_w = w\n",
    "    final_b = b\n",
    "\n",
    "    for i in range(num_iterations):\n",
    "\n",
    "        # Call Propagate function to get Cost and gradients\n",
    "        grads, cost = propagate(w, b, X, Y)\n",
    "        costs.append(cost)\n",
    "\n",
    "        # Get derivatives\n",
    "        dw = grads['dw']\n",
    "        db = grads['db']\n",
    "\n",
    "        # Update rule\n",
    "        w = w - learning_rate * dw\n",
    "        b = b - learning_rate * db\n",
    "\n",
    "        # Predict labels for train and validation sets        \n",
    "        Y_prediction_train = predict(w, b, X)\n",
    "        Y_prediction_val =  predict(w, b, X_val)\n",
    "\n",
    "        # Get accuracies for the train and validation predictions\n",
    "        train_acc =  get_accuracies(Y_prediction_train , Y)\n",
    "        val_acc =  get_accuracies(Y_prediction_val, Y_val)\n",
    "\n",
    "        if val_acc > prev_val_acc and train_acc>=val_acc:\n",
    "            print(\"*****************************\")\n",
    "            print(\"Epoch - {} - train accuracy: {} %\".format(i,train_acc))\n",
    "            print(\"Epoch - {} - val accuracy: {} %\".format(i,val_acc))\n",
    "            print(\"!!!!!!!!!!!!!!!!!!!!!!!!!!!!!!!\")\n",
    "            prev_train_acc = train_acc\n",
    "            prev_val_acc = val_acc\n",
    "            epoch = i\n",
    "            final_w = w\n",
    "            final_b = b\n",
    "\n",
    "    params = {'w': w, 'b': b}\n",
    "    grads = {'dw': dw, 'db': db}\n",
    "\n",
    "    optimal_values = {\n",
    "        'costs': costs,\n",
    "        'final w':final_w,\n",
    "        'final b':final_b,\n",
    "        'epoch':epoch,\n",
    "        'Train accuracy':prev_train_acc,\n",
    "        'Validation accuracy': prev_val_acc,\n",
    "        'Y_prediction_val': Y_prediction_val,\n",
    "        'Y_prediction_train': Y_prediction_train,\n",
    "        'params':params,\n",
    "        'grads':grads,\n",
    "    }\n",
    "\n",
    "    return optimal_values"
   ]
  },
  {
   "cell_type": "markdown",
   "metadata": {},
   "source": [
    "### Defining some utility functions - Model\n",
    "The function **model** is the holistic function, which uses all the other helper functions to train the algorithm.\n",
    "\n",
    "We are essentially creating models with different learning rates and pick the one which yields reasonable train and validation accuracies. We also parallelly take care that the model doesn't overfit, by making note of the epochs that yield reasonable results.\n",
    "\n",
    "Finally, the best parameters are returned in the form of a dictionary containing the corresponding values."
   ]
  },
  {
   "cell_type": "code",
   "execution_count": 44,
   "metadata": {},
   "outputs": [],
   "source": [
    "def model(X_train, Y_train, X_val, Y_val, num_iterations=2000, learning_rate=[0.5]):\n",
    "    prev_train_acc=0\n",
    "    prev_val_acc=0\n",
    "\n",
    "    #  Initialize weights and bias \n",
    "    w, b = initialize_weights(X_train.shape[0])\n",
    "\n",
    "    best_values = {\n",
    "        'final w':w,\n",
    "        'final b':b,\n",
    "        'Train accuracy':prev_train_acc,\n",
    "        'Validation accuracy': prev_val_acc,\n",
    "     }\n",
    "\n",
    "\n",
    "    for lr in learning_rate:\n",
    "        print((\"-\"*30 + \"learning_rate:{}\"+\"-\"*30).format(lr))\n",
    "\n",
    "        # Initialize weights and bias\n",
    "        w, b = initialize_weights(X_train.shape[0])\n",
    "\n",
    "\n",
    "        # Optimization\n",
    "        lr_optimal_values = optimize(w, b, X_train, Y_train, X_val, Y_val, num_iterations, lr)\n",
    "        if lr_optimal_values['Validation accuracy']>prev_val_acc:\n",
    "            prev_val_acc = lr_optimal_values['Validation accuracy']\n",
    "            prev_train_acc = lr_optimal_values['Train accuracy']\n",
    "            final_lr = lr\n",
    "            final_w = lr_optimal_values['final w']\n",
    "            final_b = lr_optimal_values['final b']\n",
    "            final_epoch = lr_optimal_values['epoch']\n",
    "            final_Y_prediction_val = lr_optimal_values['Y_prediction_val']\n",
    "            final_Y_prediction_train = lr_optimal_values['Y_prediction_train']\n",
    "\n",
    "    best_values['Train accuracy'] = prev_train_acc\n",
    "    best_values['Validation accuracy'] = prev_val_acc\n",
    "    best_values['final_lr'] = final_lr\n",
    "    best_values['final w'] = final_w\n",
    "    best_values['final b'] = final_b\n",
    "    best_values['epoch'] = final_epoch\n",
    "    best_values['Y_prediction_val'] = final_Y_prediction_val\n",
    "    best_values['Y_prediction_train'] = final_Y_prediction_train\n",
    "\n",
    "    return best_values"
   ]
  },
  {
   "cell_type": "markdown",
   "metadata": {},
   "source": [
    "### Training the Algorithm\n",
    "We shall call the model function, passing the necessary parameters."
   ]
  },
  {
   "cell_type": "code",
   "execution_count": 45,
   "metadata": {
    "scrolled": false
   },
   "outputs": [
    {
     "name": "stdout",
     "output_type": "stream",
     "text": [
      "------------------------------learning_rate:0.1------------------------------\n",
      "*****************************\n",
      "Epoch - 0 - train accuracy: 34.44976076555024 %\n",
      "Epoch - 0 - val accuracy: 28.0 %\n",
      "!!!!!!!!!!!!!!!!!!!!!!!!!!!!!!!\n",
      "*****************************\n",
      "Epoch - 17 - train accuracy: 39.71291866028708 %\n",
      "Epoch - 17 - val accuracy: 32.0 %\n",
      "!!!!!!!!!!!!!!!!!!!!!!!!!!!!!!!\n",
      "*****************************\n",
      "Epoch - 18 - train accuracy: 62.67942583732057 %\n",
      "Epoch - 18 - val accuracy: 60.0 %\n",
      "!!!!!!!!!!!!!!!!!!!!!!!!!!!!!!!\n"
     ]
    },
    {
     "name": "stderr",
     "output_type": "stream",
     "text": [
      "C:\\ProgramData\\Anaconda3\\lib\\site-packages\\ipykernel_launcher.py:9: RuntimeWarning: divide by zero encountered in log\n",
      "  if __name__ == '__main__':\n",
      "C:\\ProgramData\\Anaconda3\\lib\\site-packages\\ipykernel_launcher.py:9: RuntimeWarning: invalid value encountered in multiply\n",
      "  if __name__ == '__main__':\n"
     ]
    },
    {
     "name": "stdout",
     "output_type": "stream",
     "text": [
      "*****************************\n",
      "Epoch - 125 - train accuracy: 69.377990430622 %\n",
      "Epoch - 125 - val accuracy: 64.0 %\n",
      "!!!!!!!!!!!!!!!!!!!!!!!!!!!!!!!\n",
      "*****************************\n",
      "Epoch - 300 - train accuracy: 69.85645933014354 %\n",
      "Epoch - 300 - val accuracy: 68.0 %\n",
      "!!!!!!!!!!!!!!!!!!!!!!!!!!!!!!!\n",
      "------------------------------learning_rate:0.0001------------------------------\n",
      "*****************************\n",
      "Epoch - 0 - train accuracy: 34.44976076555024 %\n",
      "Epoch - 0 - val accuracy: 28.0 %\n",
      "!!!!!!!!!!!!!!!!!!!!!!!!!!!!!!!\n",
      "------------------------------learning_rate:0.001------------------------------\n",
      "*****************************\n",
      "Epoch - 0 - train accuracy: 34.44976076555024 %\n",
      "Epoch - 0 - val accuracy: 28.0 %\n",
      "!!!!!!!!!!!!!!!!!!!!!!!!!!!!!!!\n",
      "*****************************\n",
      "Epoch - 1770 - train accuracy: 37.32057416267942 %\n",
      "Epoch - 1770 - val accuracy: 32.0 %\n",
      "!!!!!!!!!!!!!!!!!!!!!!!!!!!!!!!\n",
      "*****************************\n",
      "Epoch - 1871 - train accuracy: 59.33014354066985 %\n",
      "Epoch - 1871 - val accuracy: 36.0 %\n",
      "!!!!!!!!!!!!!!!!!!!!!!!!!!!!!!!\n",
      "*****************************\n",
      "Epoch - 1890 - train accuracy: 60.76555023923445 %\n",
      "Epoch - 1890 - val accuracy: 40.0 %\n",
      "!!!!!!!!!!!!!!!!!!!!!!!!!!!!!!!\n",
      "*****************************\n",
      "Epoch - 1907 - train accuracy: 61.72248803827751 %\n",
      "Epoch - 1907 - val accuracy: 43.99999999999999 %\n",
      "!!!!!!!!!!!!!!!!!!!!!!!!!!!!!!!\n",
      "*****************************\n",
      "Epoch - 1977 - train accuracy: 62.67942583732057 %\n",
      "Epoch - 1977 - val accuracy: 48.0 %\n",
      "!!!!!!!!!!!!!!!!!!!!!!!!!!!!!!!\n",
      "------------------------------learning_rate:0.005------------------------------\n",
      "*****************************\n",
      "Epoch - 0 - train accuracy: 34.44976076555024 %\n",
      "Epoch - 0 - val accuracy: 28.0 %\n",
      "!!!!!!!!!!!!!!!!!!!!!!!!!!!!!!!\n",
      "*****************************\n",
      "Epoch - 353 - train accuracy: 37.32057416267942 %\n",
      "Epoch - 353 - val accuracy: 32.0 %\n",
      "!!!!!!!!!!!!!!!!!!!!!!!!!!!!!!!\n",
      "*****************************\n",
      "Epoch - 363 - train accuracy: 45.45454545454546 %\n",
      "Epoch - 363 - val accuracy: 36.0 %\n",
      "!!!!!!!!!!!!!!!!!!!!!!!!!!!!!!!\n",
      "*****************************\n",
      "Epoch - 377 - train accuracy: 61.72248803827751 %\n",
      "Epoch - 377 - val accuracy: 40.0 %\n",
      "!!!!!!!!!!!!!!!!!!!!!!!!!!!!!!!\n",
      "*****************************\n",
      "Epoch - 380 - train accuracy: 61.72248803827751 %\n",
      "Epoch - 380 - val accuracy: 43.99999999999999 %\n",
      "!!!!!!!!!!!!!!!!!!!!!!!!!!!!!!!\n",
      "*****************************\n",
      "Epoch - 394 - train accuracy: 62.67942583732057 %\n",
      "Epoch - 394 - val accuracy: 48.0 %\n",
      "!!!!!!!!!!!!!!!!!!!!!!!!!!!!!!!\n",
      "*****************************\n",
      "Epoch - 403 - train accuracy: 62.20095693779905 %\n",
      "Epoch - 403 - val accuracy: 52.0 %\n",
      "!!!!!!!!!!!!!!!!!!!!!!!!!!!!!!!\n"
     ]
    }
   ],
   "source": [
    "best_values = model(train_set_x,train_set_y_orig,validation_set_x,\n",
    "                    validation_y,num_iterations = 2000,\n",
    "                    learning_rate = [0.1,0.0001,0.001,0.005])"
   ]
  },
  {
   "cell_type": "markdown",
   "metadata": {},
   "source": [
    "### Evaluating the model on Test Data\n",
    "The parameter values for the best model are returned in the form of a dictionary best_values by calling **model** function.\n",
    "\n",
    "The train and validation accuracies seem reasonable enough, leaving the impression of just fit, but not overfit or underfit model.\n",
    "\n",
    "Let us evaluate this implication by getting the predictions for our test set and calculating the test set accuracies."
   ]
  },
  {
   "cell_type": "markdown",
   "metadata": {},
   "source": [
    "Call the predict function and pass the final weight and bias matrices stored in best_values, along with the test set."
   ]
  },
  {
   "cell_type": "code",
   "execution_count": 46,
   "metadata": {},
   "outputs": [],
   "source": [
    "Y_prediction_test = predict(best_values['final w'], best_values['final b'], test_set_x)"
   ]
  },
  {
   "cell_type": "markdown",
   "metadata": {},
   "source": [
    "Now, let us calculate the accuracy of the model on the test set. Call the get_accuracies function."
   ]
  },
  {
   "cell_type": "code",
   "execution_count": 47,
   "metadata": {},
   "outputs": [
    {
     "name": "stdout",
     "output_type": "stream",
     "text": [
      "Test accuracy is:  40.0\n"
     ]
    }
   ],
   "source": [
    "test_acc = get_accuracies(test_set_y, Y_prediction_test)\n",
    "print(\"Test accuracy is: \",test_acc)"
   ]
  },
  {
   "cell_type": "markdown",
   "metadata": {},
   "source": [
    "Print the final best parameters as follows:"
   ]
  },
  {
   "cell_type": "code",
   "execution_count": 48,
   "metadata": {},
   "outputs": [
    {
     "name": "stdout",
     "output_type": "stream",
     "text": [
      "Final best model:\n",
      "For Learning rate: 0.1 , Epoch -  300\n",
      "Train accuracy:  69.85645933014354\n",
      "Validation accuracy:  68.0\n",
      "Test accuracy is:  40.0\n"
     ]
    }
   ],
   "source": [
    "print(\"Final best model:\")\n",
    "print(\"For Learning rate:\" ,best_values['final_lr'], \", Epoch - \",best_values['epoch'])\n",
    "print(\"Train accuracy: \", best_values['Train accuracy'])\n",
    "print(\"Validation accuracy: \",best_values['Validation accuracy'])\n",
    "print(\"Test accuracy is: \",test_acc)"
   ]
  },
  {
   "cell_type": "markdown",
   "metadata": {},
   "source": [
    "### Example of Misclassified image\n",
    "Let us just have a look at some of the correctly classified and misclassified samples by our model."
   ]
  },
  {
   "cell_type": "code",
   "execution_count": 49,
   "metadata": {},
   "outputs": [
    {
     "name": "stdout",
     "output_type": "stream",
     "text": [
      "Predicted as: non-cat\n"
     ]
    },
    {
     "data": {
      "text/plain": [
       "0.0"
      ]
     },
     "execution_count": 49,
     "metadata": {},
     "output_type": "execute_result"
    },
    {
     "data": {
      "image/png": "[encoded data removed]",
      "text/plain": [
       "<Figure size 432x288 with 1 Axes>"
      ]
     },
     "metadata": {
      "needs_background": "light"
     },
     "output_type": "display_data"
    }
   ],
   "source": [
    "num_px = train_set_x_orig.shape[1]\n",
    "plt.imshow(test_set_x[:,1].reshape((num_px, num_px, 3)))\n",
    "predicted_value = Y_prediction_test[0][1]\n",
    "print(\"Predicted as:\",classes[int(predicted_value)].decode('utf-8'))\n",
    "predicted_value"
   ]
  },
  {
   "cell_type": "markdown",
   "metadata": {},
   "source": [
    "### Correctly Classified Images\n",
    "Plot the image of a correctly classified cat image using matplotlib."
   ]
  },
  {
   "cell_type": "code",
   "execution_count": 50,
   "metadata": {},
   "outputs": [
    {
     "name": "stdout",
     "output_type": "stream",
     "text": [
      "Predicted as: non-cat\n"
     ]
    },
    {
     "data": {
      "text/plain": [
       "0.0"
      ]
     },
     "execution_count": 50,
     "metadata": {},
     "output_type": "execute_result"
    },
    {
     "data": {
      "image/png": "[encoded data removed]",
      "text/plain": [
       "<Figure size 432x288 with 1 Axes>"
      ]
     },
     "metadata": {
      "needs_background": "light"
     },
     "output_type": "display_data"
    }
   ],
   "source": [
    "num_px = train_set_x_orig.shape[1]\n",
    "plt.imshow(test_set_x[:,2].reshape((num_px, num_px, 3)))\n",
    "predicted_value = Y_prediction_test[0][2]\n",
    "print(\"Predicted as:\",classes[int(predicted_value)].decode('utf-8'))\n",
    "predicted_value"
   ]
  },
  {
   "cell_type": "markdown",
   "metadata": {},
   "source": [
    "### Incorrectly Classified Images:\n",
    "Plot the image of an incorrectly classified cat image using matplotlib."
   ]
  },
  {
   "cell_type": "code",
   "execution_count": 52,
   "metadata": {
    "scrolled": true
   },
   "outputs": [
    {
     "name": "stdout",
     "output_type": "stream",
     "text": [
      "Predicted as: cat\n"
     ]
    },
    {
     "data": {
      "text/plain": [
       "1.0"
      ]
     },
     "execution_count": 52,
     "metadata": {},
     "output_type": "execute_result"
    },
    {
     "data": {
      "image/png": "[encoded data removed]",
      "text/plain": [
       "<Figure size 432x288 with 1 Axes>"
      ]
     },
     "metadata": {
      "needs_background": "light"
     },
     "output_type": "display_data"
    }
   ],
   "source": [
    "num_px = train_set_x_orig.shape[1]\n",
    "plt.imshow(test_set_x[:,4].reshape((num_px, num_px, 3)))\n",
    "predicted_value = Y_prediction_test[0][4]\n",
    "print(\"Predicted as:\",classes[int(predicted_value)].decode('utf-8'))\n",
    "predicted_value"
   ]
  }
 ],
 "metadata": {
  "kernelspec": {
   "display_name": "Python 3",
   "language": "python",
   "name": "python3"
  },
  "language_info": {
   "codemirror_mode": {
    "name": "ipython",
    "version": 3
   },
   "file_extension": ".py",
   "mimetype": "text/x-python",
   "name": "python",
   "nbconvert_exporter": "python",
   "pygments_lexer": "ipython3",
   "version": "3.7.6"
  },
  "toc": {
   "base_numbering": 1,
   "nav_menu": {},
   "number_sections": true,
   "sideBar": true,
   "skip_h1_title": false,
   "title_cell": "Table of Contents",
   "title_sidebar": "Contents",
   "toc_cell": false,
   "toc_position": {},
   "toc_section_display": true,
   "toc_window_display": false
  }
 },
 "nbformat": 4,
 "nbformat_minor": 2
}
