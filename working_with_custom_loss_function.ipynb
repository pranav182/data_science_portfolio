{
 "cells": [
  {
   "cell_type": "code",
   "execution_count": 1,
   "metadata": {},
   "outputs": [],
   "source": [
    "# Build a custom loss function\n",
    "\n",
    "This project was a part of **Machine Learning Specialization with TF2** by [**CLOUDXLAB**](http://cloudxlab.com/).\n",
    "\n",
    "import tensorflow as tf\n",
    "from tensorflow import keras"
   ]
  },
  {
   "cell_type": "code",
   "execution_count": 2,
   "metadata": {},
   "outputs": [],
   "source": [
    "from sklearn.datasets import fetch_california_housing"
   ]
  },
  {
   "cell_type": "code",
   "execution_count": 3,
   "metadata": {},
   "outputs": [],
   "source": [
    "housing = fetch_california_housing()"
   ]
  },
  {
   "cell_type": "code",
   "execution_count": 4,
   "metadata": {},
   "outputs": [],
   "source": [
    "from sklearn.model_selection import train_test_split"
   ]
  },
  {
   "cell_type": "code",
   "execution_count": 5,
   "metadata": {},
   "outputs": [],
   "source": [
    "X_train_full, X_test, y_train_full, y_test = train_test_split( housing.data,\n",
    "         housing.target.reshape(-1, 1), random_state=42)\n",
    "\n",
    "X_train, X_valid, y_train, y_valid =  train_test_split( X_train_full, \n",
    "        y_train_full, random_state=42)"
   ]
  },
  {
   "cell_type": "code",
   "execution_count": 6,
   "metadata": {},
   "outputs": [],
   "source": [
    "from sklearn.preprocessing import StandardScaler"
   ]
  },
  {
   "cell_type": "code",
   "execution_count": 7,
   "metadata": {},
   "outputs": [],
   "source": [
    "scaler = StandardScaler()"
   ]
  },
  {
   "cell_type": "code",
   "execution_count": 8,
   "metadata": {},
   "outputs": [],
   "source": [
    "X_train_scaled = scaler.fit_transform(X_train)"
   ]
  },
  {
   "cell_type": "code",
   "execution_count": 18,
   "metadata": {},
   "outputs": [],
   "source": [
    "X_valid_scaled = scaler.transform(X_valid)"
   ]
  },
  {
   "cell_type": "code",
   "execution_count": 9,
   "metadata": {},
   "outputs": [],
   "source": [
    "X_test_scaled = scaler.transform(X_test)"
   ]
  },
  {
   "attachments": {
    "image.png": {
     "image/png": "[encoded data removed]"
    }
   },
   "cell_type": "markdown",
   "metadata": {},
   "source": [
    "Defining a Custom Loss Function - Huber Loss\n",
    "Let's implement huber loss. Huber loss is less sensitive to outliers in data than mean squared error.\n",
    "\n",
    "Below is the formula of huber loss.\n",
    "\n",
    "![image.png](attachment:image.png)\n",
    "\n",
    "**Note:**\n",
    "\n",
    "- Huber loss is defined as:\n",
    "\n",
    "    - error **2 / 2, if error < delta (ie, if it is a small error)\n",
    "\n",
    "    - delta * ( |error| - delta/2), otherwise ( |error| means the absolute value error)\n",
    "\n",
    "In this exercise, we consider delta=1.\n",
    "\n",
    "Thus, the **huber_fn** is defined as:\n",
    "    \n",
    "    - error**2/2, if error < 1 (ie, if it is a small error).\n",
    "    - |error| - 0.5, otherwise\n",
    "\n",
    "- tf.abs(x) returns the positive value(absolute value) of x.\n",
    "\n",
    "- tf.square(x) returns the squared value of x.\n",
    "\n",
    "- tf.where(bool_array, x, y) returns the elements where condition is True in bool_array (multiplexing x and y).\n",
    "\n",
    "In simpler terms, tf.where will choose an output shape from the shapes of condition, x, and y that all three shapes are broadcastable to.\n",
    "\n",
    "The condition tensor acts as a mask that chooses whether the corresponding element/row in the output should be taken from x (if the element in the condition is True) or from y (if it is False).\n",
    "\n",
    "For example, upon executing the following,\n",
    "\n",
    "tf.where([True, False, False, True], [1,2,3,4], [100,200,300,400])\n",
    "\n",
    "the output would be : <tf.Tensor: shape=(4,), dtype=int32, numpy=array([ 1, 200, 300, 4], dtype=int32)>"
   ]
  },
  {
   "cell_type": "code",
   "execution_count": 27,
   "metadata": {},
   "outputs": [],
   "source": [
    "  def huber_fn(y_true, y_pred):\n",
    "        error = y_true - y_pred\n",
    "        is_small_error = tf.abs(error) < 1\n",
    "        squared_loss = tf.square(error) / 2\n",
    "        linear_loss  = tf.abs(error) - 0.5\n",
    "        return tf.where(is_small_error, squared_loss, linear_loss)"
   ]
  },
  {
   "cell_type": "code",
   "execution_count": 30,
   "metadata": {},
   "outputs": [],
   "source": [
    "model = keras.models.Sequential([\n",
    "    keras.layers.Dense(30, activation=\"selu\", \n",
    "       kernel_initializer=\"lecun_normal\", \n",
    "       input_shape=X_train.shape[1:]),\n",
    "    keras.layers.Dense(1),\n",
    "])"
   ]
  },
  {
   "cell_type": "code",
   "execution_count": 31,
   "metadata": {},
   "outputs": [],
   "source": [
    "model.compile(loss=huber_fn, optimizer=\"nadam\", metrics=[\"mae\"])"
   ]
  },
  {
   "cell_type": "code",
   "execution_count": 34,
   "metadata": {},
   "outputs": [
    {
     "name": "stdout",
     "output_type": "stream",
     "text": [
      "Train on 11610 samples, validate on 3870 samples\n",
      "Epoch 1/15\n",
      "11610/11610 [==============================] - 1s 119us/sample - loss: 0.5935 - mae: 0.9491 - val_loss: 0.2426 - val_mae: 0.5450\n",
      "Epoch 2/15\n",
      "11610/11610 [==============================] - 1s 58us/sample - loss: 0.2168 - mae: 0.5173 - val_loss: 0.2072 - val_mae: 0.4940\n",
      "Epoch 3/15\n",
      "11610/11610 [==============================] - 1s 57us/sample - loss: 0.2066 - mae: 0.5006 - val_loss: 0.1906 - val_mae: 0.4761\n",
      "Epoch 4/15\n",
      "11610/11610 [==============================] - 1s 57us/sample - loss: 0.2013 - mae: 0.4925 - val_loss: 0.1891 - val_mae: 0.4690\n",
      "Epoch 5/15\n",
      "11610/11610 [==============================] - 1s 58us/sample - loss: 0.1972 - mae: 0.4858 - val_loss: 0.1792 - val_mae: 0.4599\n",
      "Epoch 6/15\n",
      "11610/11610 [==============================] - 1s 57us/sample - loss: 0.1935 - mae: 0.4801 - val_loss: 0.1769 - val_mae: 0.4548\n",
      "Epoch 7/15\n",
      "11610/11610 [==============================] - 1s 57us/sample - loss: 0.1912 - mae: 0.4757 - val_loss: 0.1781 - val_mae: 0.4534\n",
      "Epoch 8/15\n",
      "11610/11610 [==============================] - 1s 57us/sample - loss: 0.1882 - mae: 0.4715 - val_loss: 0.1832 - val_mae: 0.4579\n",
      "Epoch 9/15\n",
      "11610/11610 [==============================] - 1s 57us/sample - loss: 0.1856 - mae: 0.4674 - val_loss: 0.1771 - val_mae: 0.4526\n",
      "Epoch 10/15\n",
      "11610/11610 [==============================] - 1s 58us/sample - loss: 0.1838 - mae: 0.4636 - val_loss: 0.1900 - val_mae: 0.4617\n",
      "Epoch 11/15\n",
      "11610/11610 [==============================] - 1s 58us/sample - loss: 0.1826 - mae: 0.4619 - val_loss: 0.1850 - val_mae: 0.4595\n",
      "Epoch 12/15\n",
      "11610/11610 [==============================] - 1s 57us/sample - loss: 0.1813 - mae: 0.4591 - val_loss: 0.1848 - val_mae: 0.4596\n",
      "Epoch 13/15\n",
      "11610/11610 [==============================] - 1s 57us/sample - loss: 0.1796 - mae: 0.4574 - val_loss: 0.1915 - val_mae: 0.4655\n",
      "Epoch 14/15\n",
      "11610/11610 [==============================] - 1s 57us/sample - loss: 0.1781 - mae: 0.4541 - val_loss: 0.1934 - val_mae: 0.4639\n",
      "Epoch 15/15\n",
      "11610/11610 [==============================] - 1s 57us/sample - loss: 0.1767 - mae: 0.4505 - val_loss: 0.1805 - val_mae: 0.4494\n"
     ]
    },
    {
     "data": {
      "text/plain": [
       "<tensorflow.python.keras.callbacks.History at 0x7f02c0714278>"
      ]
     },
     "execution_count": 34,
     "metadata": {},
     "output_type": "execute_result"
    }
   ],
   "source": [
    "model.fit(X_train_scaled,y_train, epochs=15,\n",
    "  validation_data=(X_valid_scaled, y_valid))"
   ]
  },
  {
   "cell_type": "code",
   "execution_count": 35,
   "metadata": {},
   "outputs": [
    {
     "name": "stdout",
     "output_type": "stream",
     "text": [
      "5160/5160 [==============================] - 0s 29us/sample - loss: 0.1744 - mae: 0.4508\n"
     ]
    },
    {
     "data": {
      "text/plain": [
       "[0.1743710722110068, 0.45079333]"
      ]
     },
     "execution_count": 35,
     "metadata": {},
     "output_type": "execute_result"
    }
   ],
   "source": [
    "model.evaluate(X_test_scaled, y_test)"
   ]
  },
  {
   "cell_type": "markdown",
   "metadata": {},
   "source": [
    "Observe the values of loss and mae. These values are nearly the same as those of the train and validation datasets. Also, the values are low. Hence our model hasn't been overfitted and is giving a decent performance."
   ]
  },
  {
   "cell_type": "code",
   "execution_count": null,
   "metadata": {},
   "outputs": [],
   "source": []
  }
 ],
 "metadata": {
  "kernelspec": {
   "display_name": "tensorflow2",
   "language": "python",
   "name": "tensorflow2"
  },
  "language_info": {
   "codemirror_mode": {
    "name": "ipython",
    "version": 3
   },
   "file_extension": ".py",
   "mimetype": "text/x-python",
   "name": "python",
   "nbconvert_exporter": "python",
   "pygments_lexer": "ipython3",
   "version": "3.6.8"
  },
  "toc": {
   "base_numbering": 1,
   "nav_menu": {},
   "number_sections": true,
   "sideBar": true,
   "skip_h1_title": false,
   "title_cell": "Table of Contents",
   "title_sidebar": "Contents",
   "toc_cell": false,
   "toc_position": {},
   "toc_section_display": true,
   "toc_window_display": false
  }
 },
 "nbformat": 4,
 "nbformat_minor": 2
}
