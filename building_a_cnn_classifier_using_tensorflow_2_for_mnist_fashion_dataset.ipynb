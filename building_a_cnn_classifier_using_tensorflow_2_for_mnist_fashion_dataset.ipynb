{
 "cells": [
  {
   "cell_type": "markdown",
   "metadata": {},
   "source": [
    "# Build a Convolutional Neural Network using TensorFlow 2.\n",
    "This project was a part of **Data Science Specialization** by **E&ICT ACADEMY IIT ROORKEE** and [**CLOUDXLAB**](http://cloudxlab.com/). \n"
   ]
  },
  {
   "cell_type": "code",
   "execution_count": 61,
   "metadata": {
    "scrolled": true
   },
   "outputs": [
    {
     "name": "stdout",
     "output_type": "stream",
     "text": [
      "Tensorflow version 2.1.0\n"
     ]
    }
   ],
   "source": [
    "import numpy as np\n",
    "import tensorflow as tf\n",
    "print(\"Tensorflow version\", tf.__version__)"
   ]
  },
  {
   "cell_type": "code",
   "execution_count": 62,
   "metadata": {},
   "outputs": [
    {
     "name": "stdout",
     "output_type": "stream",
     "text": [
      "Keras version 2.2.4-tf\n"
     ]
    }
   ],
   "source": [
    "from tensorflow import keras\n",
    "print(\"Keras version\", keras.__version__)"
   ]
  },
  {
   "cell_type": "code",
   "execution_count": 63,
   "metadata": {},
   "outputs": [],
   "source": [
    "import matplotlib.pyplot as plt"
   ]
  },
  {
   "cell_type": "markdown",
   "metadata": {},
   "source": [
    "Set the random seed for **tf** and **np** so as to reuse the same set of random variables and reproduce the results."
   ]
  },
  {
   "cell_type": "code",
   "execution_count": 64,
   "metadata": {},
   "outputs": [],
   "source": [
    "np.random.seed(42)\n",
    "tf.random.set_seed(42)"
   ]
  },
  {
   "cell_type": "markdown",
   "metadata": {},
   "source": [
    "### Loading the Dataset\n",
    "Let's load the fashion MNIST dataset. Keras has a number of functions to load popular datasets in keras.datasets. The dataset is already split for you between a training set and a test set.\n",
    "For more infor: https://github.com/zalandoresearch/fashion-mnist"
   ]
  },
  {
   "cell_type": "code",
   "execution_count": 65,
   "metadata": {},
   "outputs": [],
   "source": [
    "fashion_mnist = keras.datasets.fashion_mnist"
   ]
  },
  {
   "cell_type": "code",
   "execution_count": 66,
   "metadata": {},
   "outputs": [],
   "source": [
    "# Load and sort the data into train and test sets \n",
    "(X_train_full, y_train_full), (X_test, y_test) = fashion_mnist.load_data()"
   ]
  },
  {
   "cell_type": "code",
   "execution_count": 67,
   "metadata": {},
   "outputs": [
    {
     "data": {
      "text/plain": [
       "(60000, 28, 28)"
      ]
     },
     "execution_count": 67,
     "metadata": {},
     "output_type": "execute_result"
    }
   ],
   "source": [
    "X_train_full.shape"
   ]
  },
  {
   "cell_type": "markdown",
   "metadata": {},
   "source": [
    "### Splitting the Data\n",
    "\n",
    "Though the dataset is already split for you between a training set and a test set, it can be useful to split the training set further to have a validation set. We shall do that here.\n",
    "\n",
    "Let's split the full training set into a validation set and a (smaller) training set. We will also scale the pixel intensities down to the 0-1 range and convert them to floats, by dividing by 255."
   ]
  },
  {
   "cell_type": "code",
   "execution_count": 68,
   "metadata": {},
   "outputs": [
    {
     "data": {
      "text/plain": [
       "<matplotlib.image.AxesImage at 0x7fa976b01d68>"
      ]
     },
     "execution_count": 68,
     "metadata": {},
     "output_type": "execute_result"
    },
    {
     "data": {
      "image/png": "[encoded data removed]",
      "text/plain": [
       "<Figure size 432x288 with 1 Axes>"
      ]
     },
     "metadata": {
      "needs_background": "light"
     },
     "output_type": "display_data"
    }
   ],
   "source": [
    "# Let us see an image from the dataset using plt.imshow.\n",
    "plt.imshow(X_train_full[0], cmap=\"Greys\")"
   ]
  },
  {
   "cell_type": "code",
   "execution_count": 69,
   "metadata": {},
   "outputs": [
    {
     "name": "stdout",
     "output_type": "stream",
     "text": [
      "item0 9\n"
     ]
    }
   ],
   "source": [
    "# Let us see the class of the image.\n",
    "print (\"item0\", y_train_full[0])"
   ]
  },
  {
   "cell_type": "code",
   "execution_count": 70,
   "metadata": {},
   "outputs": [],
   "source": [
    "# Slice the first samples from 55000 of the X_train_full store these samples in X_train.\n",
    "X_train = X_train_full[:55000]"
   ]
  },
  {
   "cell_type": "code",
   "execution_count": 71,
   "metadata": {},
   "outputs": [],
   "source": [
    "# Store the remaining samples from 55000 of the y_train_full to form the y_train\n",
    "y_train = y_train_full[:55000]"
   ]
  },
  {
   "cell_type": "code",
   "execution_count": 72,
   "metadata": {},
   "outputs": [],
   "source": [
    "# Similarly, slice the remaining samples from the X_train_full and store these samples in X_valid.\n",
    "X_valid = X_train_full[55000:]"
   ]
  },
  {
   "cell_type": "code",
   "execution_count": 73,
   "metadata": {},
   "outputs": [],
   "source": [
    "# Store the remaining values from y_train_full to form the y_valid.\n",
    "y_valid = y_train_full[55000:]"
   ]
  },
  {
   "cell_type": "code",
   "execution_count": 74,
   "metadata": {},
   "outputs": [
    {
     "name": "stdout",
     "output_type": "stream",
     "text": [
      "Train data shape: (55000, 28, 28)\n",
      "Validation data shape: (5000, 28, 28)\n",
      "Test data shape: (10000,)\n"
     ]
    }
   ],
   "source": [
    "# print the shapes of the train data, validation data, and test data.\n",
    "print(\"Train data shape:\",X_train.shape)\n",
    "print(\"Validation data shape:\",X_valid.shape)\n",
    "print(\"Test data shape:\",y_test.shape)"
   ]
  },
  {
   "cell_type": "markdown",
   "metadata": {},
   "source": [
    "### Normalising the Features\n",
    "\n",
    "We shall now normalize the features(pixel values) of train, validation, and test sets with the mean and standard deviation values of the train data.\n",
    "So first we shall calculate the mean and standard deviation values of the train data.\n",
    "Then we use these values to normalize the pixel values.\n",
    "\n",
    "**Note:**\n",
    "\n",
    "- **np.newaxis** : Used to increase the array dimensionality by 1. Often used when we want to convert a numpy array into one higher dimensionality, like a 1D array to 2d array, or 2D array to 3D array and so on. More [here](https://numpy.org/doc/stable/reference/constants.html#numpy.newaxis)\n",
    "\n",
    "- **numpy_array.mean()** : Compute the arithmetic mean along the specified axis. More [here](https://numpy.org/doc/stable/reference/generated/numpy.mean.html#:~:text=mean-,numpy.,otherwise%20over%20the%20specified%20axis.)"
   ]
  },
  {
   "cell_type": "code",
   "execution_count": 75,
   "metadata": {},
   "outputs": [
    {
     "name": "stdout",
     "output_type": "stream",
     "text": [
      "Shape of features (55000, 28, 28, 1) (5000, 28, 28, 1) (10000, 28, 28, 1)\n"
     ]
    }
   ],
   "source": [
    "# Get the mean X_mean of X_train using mean() along the axis=0.\n",
    "X_mean = X_train.mean(axis=0, keepdims=True)\n",
    "\n",
    "# Get the standard deviation X_std of X_train using std() along the axis=0.\n",
    "X_std = X_train.std(axis=0, keepdims=True)\n",
    "\n",
    "# Now, normalize the X_train values as follows:\n",
    "X_train = (X_train - X_mean) / X_std\n",
    "\n",
    "# # Similarly, normalize the X_valid values as follows:\n",
    "# X_valid_mean = X_valid.mean(axis=0, keepdims=True)\n",
    "# X_valid_std = X_valid.std(axis=0, keepdims=True)\n",
    "# X_valid = (X_valid - X_valid_mean) / X_valid_std\n",
    "\n",
    "# # Similarly, normalize the X_test values as follows:\n",
    "# X_test_mean = X_test.mean(axis=0, keepdims=True)\n",
    "# X_test_std = X_test.std(axis=0, keepdims=True)\n",
    "# X_test = (X_test - X_test_mean) / X_test_std\n",
    "\n",
    "\n",
    "X_valid = (X_valid - X_mean) / X_std\n",
    "X_test = (X_test - X_mean) / X_std\n",
    "# A convolutional layer, which is the first layer of our classifier we are going to build later, \n",
    "# expects the input to be 4 dimensional: (batch size, filters or channels, width, height). So \n",
    "# let us increase the dimensionality - using np.newaxis - of our data so that everything will be one batch each.\n",
    "X_train = X_train[..., np.newaxis]\n",
    "X_valid = X_valid[..., np.newaxis]\n",
    "X_test = X_test[..., np.newaxis]\n",
    "\n",
    "# Now let's print the shape of these features in each of the sets:\n",
    "print (\"Shape of features\", X_train.shape, X_valid.shape, X_test.shape)"
   ]
  },
  {
   "cell_type": "markdown",
   "metadata": {},
   "source": [
    "### Building and Fitting the Model\n",
    "\n",
    "Let us build a Convolutional Neural Network for this classification problem.\n",
    "\n",
    "**Note:**\n",
    "\n",
    "- **partial** : It is a function from **functools.** It returns a function object for a given function, with the flexibility to freeze some parameters. We can either change these parameters or leave them as they are. the remaining parameters which are not frozen should be passed to the newly generated function.\n",
    "\n",
    "- **tf.keras.layers.Conv2D** : 2D convolution layer function. It has various parameters like **kernel_size, activation, padding, filters** etc. More [here](https://www.tensorflow.org/api_docs/python/tf/keras/layers/Conv2D)\n",
    "\n",
    "- **tf.keras.layers.MaxPool2D** : Max pooling operation for 2D spatial data. More [here](https://www.tensorflow.org/api_docs/python/tf/keras/layers/MaxPool2D)\n",
    "\n",
    "- **tf.keras.layers.Flatten** : Flattens the input. More [here](https://www.tensorflow.org/api_docs/python/tf/keras/layers/Flatten)\n",
    "\n",
    "- **tf.keras.layers.Dense** : Just your regular densely-connected NN layer. More [here](https://www.tensorflow.org/api_docs/python/tf/keras/layers/Dense)\n",
    "\n",
    "- **tf.keras.layers.Dropout** : Applies Dropout to the input.\n",
    "\n",
    "- Since the class labels are integer indices, we use **sparse_categorical_cross entropy.** If the class labels are one-hot vectors, we could use **categorical_crossentropy.**\n",
    "\n",
    "- For **metrics** parameter of the **model.compile**, we can mention evaluation metrics we want the model to return. Here we shall write **accuracy**."
   ]
  },
  {
   "cell_type": "code",
   "execution_count": 83,
   "metadata": {},
   "outputs": [],
   "source": [
    "from functools import partial"
   ]
  },
  {
   "cell_type": "markdown",
   "metadata": {},
   "source": [
    "Make the partial function named **DefaultConv2D** using **partial** function imported from functools. We pass the keras.layers.Conv2D function and other parameters to freeze them. We could change them later."
   ]
  },
  {
   "cell_type": "code",
   "execution_count": 84,
   "metadata": {},
   "outputs": [],
   "source": [
    "DefaultConv2D = partial(keras.layers.Conv2D,\n",
    "                kernel_size=3, activation='relu', padding=\"SAME\")"
   ]
  },
  {
   "cell_type": "markdown",
   "metadata": {},
   "source": [
    "Now use this DefaultConv2D along with the other layers(like keras.layers.MaxPooling2D, keras.layers.Dense, etc.) to build the classification model. Here we set input_shape as [28, 28, 1] since the size of each image is 28x28x1."
   ]
  },
  {
   "cell_type": "code",
   "execution_count": 85,
   "metadata": {},
   "outputs": [],
   "source": [
    "model = keras.models.Sequential([\n",
    "    DefaultConv2D(filters=64, kernel_size=7, input_shape=[28, 28, 1]), \n",
    "    keras.layers.MaxPooling2D(pool_size=2), \n",
    "    DefaultConv2D(filters=128),  \n",
    "    DefaultConv2D(filters=128),\n",
    "    keras.layers.MaxPooling2D(pool_size=2),\n",
    "    DefaultConv2D(filters=256),\n",
    "    DefaultConv2D(filters=256),\n",
    "    keras.layers.MaxPooling2D(pool_size=2),\n",
    "    keras.layers.Flatten(),\n",
    "    keras.layers.Dense(units=128, activation='relu'),\n",
    "    keras.layers.Dropout(0.5),\n",
    "    keras.layers.Dense(units=64, activation='relu'),\n",
    "    keras.layers.Dropout(0.5),\n",
    "    keras.layers.Dense(units=10, activation='softmax'),\n",
    "])"
   ]
  },
  {
   "cell_type": "markdown",
   "metadata": {},
   "source": [
    "Observe here, that we changed the kernel_size(which we initially freezer to be 3) in the DefaultConv2D, and we have also mentioned other parameter values."
   ]
  },
  {
   "cell_type": "markdown",
   "metadata": {},
   "source": [
    "Use **model.compile** and compile it with loss=\"sparse_categorical_crossentropy\", optimizer=\"nadam\", metrics=[\"accuracy\"]."
   ]
  },
  {
   "cell_type": "code",
   "execution_count": 86,
   "metadata": {},
   "outputs": [],
   "source": [
    "model.compile(loss=\"sparse_categorical_crossentropy\", optimizer=\"nadam\", metrics=[\"accuracy\"])"
   ]
  },
  {
   "cell_type": "markdown",
   "metadata": {},
   "source": [
    "Use **fit** method of the model to start training on the train dataX_train, y_train. Use validation_data = (X_valid, y_valid)."
   ]
  },
  {
   "cell_type": "code",
   "execution_count": 87,
   "metadata": {},
   "outputs": [
    {
     "name": "stdout",
     "output_type": "stream",
     "text": [
      "Train on 55000 samples, validate on 5000 samples\n",
      "Epoch 1/3\n",
      "55000/55000 [==============================] - 115s 2ms/sample - loss: 0.7076 - accuracy: 0.7534 - val_loss: 0.3668 - val_accuracy: 0.8692\n",
      "Epoch 2/3\n",
      "55000/55000 [==============================] - 111s 2ms/sample - loss: 0.4181 - accuracy: 0.8583 - val_loss: 0.3194 - val_accuracy: 0.8878\n",
      "Epoch 3/3\n",
      "55000/55000 [==============================] - 121s 2ms/sample - loss: 0.3609 - accuracy: 0.8770 - val_loss: 0.3157 - val_accuracy: 0.8844\n"
     ]
    }
   ],
   "source": [
    "history = model.fit(X_train, y_train, epochs=3, validation_data=(X_valid, y_valid))"
   ]
  },
  {
   "cell_type": "markdown",
   "metadata": {},
   "source": [
    "### Evaluating the Model Performance\n",
    "\n",
    "Let us see how well our model has learned from the train data, by testing it on the test data.\n",
    "\n",
    "**Note:**\n",
    "\n",
    "- **model.evaluate(X_test, y_test)** : Returns a list with the loss(at index 0) and accuracy(at index 1) of the predictions of the **model** on **X_test.**\n",
    "\n",
    "- **array[a:b]** : Returns the elements of **array** from index **a** till **b-1** inclusive.\n",
    "\n",
    "- **model.predict** : Generates output predictions for the input samples. It returns the probabilities of each class for a given test sample. We consider the classification to be of that class(or of that index) whose probability of the highest.\n",
    "\n",
    "- **np.argmax** : Returns the indices of the maximum values along an axis. More [here](https://numpy.org/doc/stable/reference/generated/numpy.argmax.html)"
   ]
  },
  {
   "cell_type": "code",
   "execution_count": 93,
   "metadata": {},
   "outputs": [
    {
     "name": "stdout",
     "output_type": "stream",
     "text": [
      "10000/10000 [==============================] - 6s 610us/sample - loss: 0.3329 - accuracy: 0.8820\n"
     ]
    }
   ],
   "source": [
    "# Check data prediction accuracy\n",
    "results = model.evaluate(X_test, y_test)"
   ]
  },
  {
   "cell_type": "code",
   "execution_count": 94,
   "metadata": {},
   "outputs": [
    {
     "name": "stdout",
     "output_type": "stream",
     "text": [
      "0.882\n"
     ]
    }
   ],
   "source": [
    "print(results[1])"
   ]
  },
  {
   "cell_type": "markdown",
   "metadata": {},
   "source": [
    "Let us see the predictions of 9 of the test samples from index 10."
   ]
  },
  {
   "cell_type": "code",
   "execution_count": 96,
   "metadata": {},
   "outputs": [],
   "source": [
    "X_new = X_test[10:20]"
   ]
  },
  {
   "cell_type": "code",
   "execution_count": 97,
   "metadata": {},
   "outputs": [],
   "source": [
    "y_pred = model.predict(X_new)"
   ]
  },
  {
   "cell_type": "code",
   "execution_count": 98,
   "metadata": {},
   "outputs": [
    {
     "name": "stdout",
     "output_type": "stream",
     "text": [
      "[4 5 7 3 4 1 2 4 8 0]\n"
     ]
    }
   ],
   "source": [
    "print(np.argmax(y_pred, axis=1))"
   ]
  },
  {
   "cell_type": "code",
   "execution_count": 99,
   "metadata": {},
   "outputs": [
    {
     "name": "stdout",
     "output_type": "stream",
     "text": [
      "[4 5 7 3 4 1 2 4 8 0]\n"
     ]
    }
   ],
   "source": [
    "print (y_test[10:20])"
   ]
  },
  {
   "cell_type": "code",
   "execution_count": null,
   "metadata": {},
   "outputs": [],
   "source": []
  }
 ],
 "metadata": {
  "kernelspec": {
   "display_name": "Python 3",
   "language": "python",
   "name": "python3"
  },
  "language_info": {
   "codemirror_mode": {
    "name": "ipython",
    "version": 3
   },
   "file_extension": ".py",
   "mimetype": "text/x-python",
   "name": "python",
   "nbconvert_exporter": "python",
   "pygments_lexer": "ipython3",
   "version": "3.7.6"
  },
  "toc": {
   "base_numbering": 1,
   "nav_menu": {},
   "number_sections": true,
   "sideBar": true,
   "skip_h1_title": false,
   "title_cell": "Table of Contents",
   "title_sidebar": "Contents",
   "toc_cell": false,
   "toc_position": {},
   "toc_section_display": true,
   "toc_window_display": false
  }
 },
 "nbformat": 4,
 "nbformat_minor": 2
}
