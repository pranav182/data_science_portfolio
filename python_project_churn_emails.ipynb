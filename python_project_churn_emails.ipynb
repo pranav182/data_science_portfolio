{
 "cells": [
  {
   "cell_type": "markdown",
   "metadata": {},
   "source": [
    "# Python Project: Churn Emails"
   ]
  },
  {
   "cell_type": "markdown",
   "metadata": {},
   "source": [
    "This project was a part of **Data Science Specialization** by **E&ICT ACADEMY IIT ROORKEE** and [**CLOUDXLAB**](http://cloudxlab.com/). "
   ]
  },
  {
   "cell_type": "markdown",
   "metadata": {},
   "source": [
    "We have a text file which records mail activity from various individuals in an open source project development team. These files are in a standard format for a file containing multiple mail messages. The lines which start with \"From \" separate the messages and the lines which start with \"From:\" are part of the messages. For more information about the mbox format, please see this https://en.wikipedia.org/wiki/Mbox"
   ]
  },
  {
   "cell_type": "markdown",
   "metadata": {},
   "source": [
    "If we know the file is relatively small compared to the size of our main memory, we can read the whole file into one string using the <b>read</b> method on the file handle."
   ]
  },
  {
   "cell_type": "code",
   "execution_count": 1,
   "metadata": {},
   "outputs": [],
   "source": [
    "# Count the Number of Lines\n",
    "def number_of_lines():\n",
    "    with open(\"/cxldata/datasets/project/mbox-short.txt\") as f:\n",
    "        content = f.read()\n",
    "        count = 0\n",
    "        for character in content:\n",
    "            if character == \"\\n\":\n",
    "                count += 1\n",
    "        return count"
   ]
  },
  {
   "cell_type": "code",
   "execution_count": 2,
   "metadata": {},
   "outputs": [
    {
     "data": {
      "text/plain": [
       "1910"
      ]
     },
     "execution_count": 2,
     "metadata": {},
     "output_type": "execute_result"
    }
   ],
   "source": [
    "number_of_lines()"
   ]
  },
  {
   "cell_type": "markdown",
   "metadata": {},
   "source": [
    "We use the string method <b>startswith</b> to select only those lines with the desired prefix.\n",
    "We Write a function <b>count_number_of_lines</b> which returns the count of the number of lines starting with <b>Subject:</b> in the file."
   ]
  },
  {
   "cell_type": "code",
   "execution_count": 3,
   "metadata": {},
   "outputs": [],
   "source": [
    "# Count the Number of Subject Lines\n",
    "def count_number_of_lines():\n",
    "    with open(\"/cxldata/datasets/project/mbox-short.txt\") as f:\n",
    "        count = 0\n",
    "        for line in f:\n",
    "            if line.startswith(\"Subject:\"):\n",
    "                count += 1\n",
    "        return count"
   ]
  },
  {
   "cell_type": "code",
   "execution_count": 4,
   "metadata": {},
   "outputs": [
    {
     "data": {
      "text/plain": [
       "27"
      ]
     },
     "execution_count": 4,
     "metadata": {},
     "output_type": "execute_result"
    }
   ],
   "source": [
    "count_number_of_lines()"
   ]
  },
  {
   "cell_type": "code",
   "execution_count": 5,
   "metadata": {},
   "outputs": [],
   "source": [
    "# Find the average of this spam confidence in the entire file and return it.\n",
    "def average_spam_confidence():\n",
    "    with open(\"/cxldata/datasets/project/mbox-short.txt\") as f:\n",
    "        count = 0\n",
    "        float_value = 0.0\n",
    "        for line in f:\n",
    "            line = line.rstrip() # Remove new line characters from right\n",
    "            if line.startswith(\"X-DSPAM-Confidence:\"):\n",
    "                split_line = line.split(\":\")\n",
    "                print(split_line)\n",
    "                float_value += float(split_line[1])\n",
    "                count += 1\n",
    "        return float_value/count"
   ]
  },
  {
   "cell_type": "code",
   "execution_count": 6,
   "metadata": {},
   "outputs": [
    {
     "name": "stdout",
     "output_type": "stream",
     "text": [
      "['X-DSPAM-Confidence', ' 0.8475']\n",
      "['X-DSPAM-Confidence', ' 0.6178']\n",
      "['X-DSPAM-Confidence', ' 0.6961']\n",
      "['X-DSPAM-Confidence', ' 0.7565']\n",
      "['X-DSPAM-Confidence', ' 0.7626']\n",
      "['X-DSPAM-Confidence', ' 0.7556']\n",
      "['X-DSPAM-Confidence', ' 0.7002']\n",
      "['X-DSPAM-Confidence', ' 0.7615']\n",
      "['X-DSPAM-Confidence', ' 0.7601']\n",
      "['X-DSPAM-Confidence', ' 0.7605']\n",
      "['X-DSPAM-Confidence', ' 0.6959']\n",
      "['X-DSPAM-Confidence', ' 0.7606']\n",
      "['X-DSPAM-Confidence', ' 0.7559']\n",
      "['X-DSPAM-Confidence', ' 0.7605']\n",
      "['X-DSPAM-Confidence', ' 0.6932']\n",
      "['X-DSPAM-Confidence', ' 0.7558']\n",
      "['X-DSPAM-Confidence', ' 0.6526']\n",
      "['X-DSPAM-Confidence', ' 0.6948']\n",
      "['X-DSPAM-Confidence', ' 0.6528']\n",
      "['X-DSPAM-Confidence', ' 0.7002']\n",
      "['X-DSPAM-Confidence', ' 0.7554']\n",
      "['X-DSPAM-Confidence', ' 0.6956']\n",
      "['X-DSPAM-Confidence', ' 0.6959']\n",
      "['X-DSPAM-Confidence', ' 0.7556']\n",
      "['X-DSPAM-Confidence', ' 0.9846']\n",
      "['X-DSPAM-Confidence', ' 0.8509']\n",
      "['X-DSPAM-Confidence', ' 0.9907']\n"
     ]
    },
    {
     "data": {
      "text/plain": [
       "0.7507185185185187"
      ]
     },
     "execution_count": 6,
     "metadata": {},
     "output_type": "execute_result"
    }
   ],
   "source": [
    "average_spam_confidence()"
   ]
  },
  {
   "cell_type": "markdown",
   "metadata": {},
   "source": [
    "Next, we write a function <b>find_email_sent_days</b> which reads the file and categorizes each mail message by which day of the week the email was sent.\n",
    "\n",
    "To do this we do the following:\n",
    "\n",
    "Open the file and read it line by line\n",
    "Look for lines that start with \"From\"\n",
    "For those lines which start from <b>From</b>, then look for the third word and keep a running count of each of the days of the week.\n",
    "We have to store the results in a dictionary. Only store those days of the week that exist. For Example, if there is no line for Mon then it should not be in the dictionary elements."
   ]
  },
  {
   "cell_type": "code",
   "execution_count": 7,
   "metadata": {},
   "outputs": [],
   "source": [
    "# Find Which Day of the Week the Email was sent\n",
    "def find_email_sent_days():\n",
    "    with open(\"/cxldata/datasets/project/mbox-short.txt\") as f:\n",
    "        result_dict = {}\n",
    "        for line in f:\n",
    "            if line.startswith(\"From \"):\n",
    "                line_list = line.split(\" \")\n",
    "                print(line_list)\n",
    "                key = line_list[2]\n",
    "                if key in result_dict:\n",
    "                    result_dict[key] += 1\n",
    "                else:\n",
    "                    result_dict[key] = 1\n",
    "        return result_dict"
   ]
  },
  {
   "cell_type": "code",
   "execution_count": 8,
   "metadata": {},
   "outputs": [
    {
     "name": "stdout",
     "output_type": "stream",
     "text": [
      "['From', 'stephen.marquard@uct.ac.za', 'Sat', 'Jan', '', '5', '09:14:16', '2008\\n']\n",
      "['From', 'louis@media.berkeley.edu', 'Fri', 'Jan', '', '4', '18:10:48', '2008\\n']\n",
      "['From', 'zqian@umich.edu', 'Fri', 'Jan', '', '4', '16:10:39', '2008\\n']\n",
      "['From', 'rjlowe@iupui.edu', 'Fri', 'Jan', '', '4', '15:46:24', '2008\\n']\n",
      "['From', 'zqian@umich.edu', 'Fri', 'Jan', '', '4', '15:03:18', '2008\\n']\n",
      "['From', 'rjlowe@iupui.edu', 'Fri', 'Jan', '', '4', '14:50:18', '2008\\n']\n",
      "['From', 'cwen@iupui.edu', 'Fri', 'Jan', '', '4', '11:37:30', '2008\\n']\n",
      "['From', 'cwen@iupui.edu', 'Fri', 'Jan', '', '4', '11:35:08', '2008\\n']\n",
      "['From', 'gsilver@umich.edu', 'Fri', 'Jan', '', '4', '11:12:37', '2008\\n']\n",
      "['From', 'gsilver@umich.edu', 'Fri', 'Jan', '', '4', '11:11:52', '2008\\n']\n",
      "['From', 'zqian@umich.edu', 'Fri', 'Jan', '', '4', '11:11:03', '2008\\n']\n",
      "['From', 'gsilver@umich.edu', 'Fri', 'Jan', '', '4', '11:10:22', '2008\\n']\n",
      "['From', 'wagnermr@iupui.edu', 'Fri', 'Jan', '', '4', '10:38:42', '2008\\n']\n",
      "['From', 'zqian@umich.edu', 'Fri', 'Jan', '', '4', '10:17:43', '2008\\n']\n",
      "['From', 'antranig@caret.cam.ac.uk', 'Fri', 'Jan', '', '4', '10:04:14', '2008\\n']\n",
      "['From', 'gopal.ramasammycook@gmail.com', 'Fri', 'Jan', '', '4', '09:05:31', '2008\\n']\n",
      "['From', 'david.horwitz@uct.ac.za', 'Fri', 'Jan', '', '4', '07:02:32', '2008\\n']\n",
      "['From', 'david.horwitz@uct.ac.za', 'Fri', 'Jan', '', '4', '06:08:27', '2008\\n']\n",
      "['From', 'david.horwitz@uct.ac.za', 'Fri', 'Jan', '', '4', '04:49:08', '2008\\n']\n",
      "['From', 'david.horwitz@uct.ac.za', 'Fri', 'Jan', '', '4', '04:33:44', '2008\\n']\n",
      "['From', 'stephen.marquard@uct.ac.za', 'Fri', 'Jan', '', '4', '04:07:34', '2008\\n']\n",
      "['From', 'louis@media.berkeley.edu', 'Thu', 'Jan', '', '3', '19:51:21', '2008\\n']\n",
      "['From', 'louis@media.berkeley.edu', 'Thu', 'Jan', '', '3', '17:18:23', '2008\\n']\n",
      "['From', 'ray@media.berkeley.edu', 'Thu', 'Jan', '', '3', '17:07:00', '2008\\n']\n",
      "['From', 'cwen@iupui.edu', 'Thu', 'Jan', '', '3', '16:34:40', '2008\\n']\n",
      "['From', 'cwen@iupui.edu', 'Thu', 'Jan', '', '3', '16:29:07', '2008\\n']\n",
      "['From', 'cwen@iupui.edu', 'Thu', 'Jan', '', '3', '16:23:48', '2008\\n']\n"
     ]
    },
    {
     "data": {
      "text/plain": [
       "{'Sat': 1, 'Fri': 20, 'Thu': 6}"
      ]
     },
     "execution_count": 8,
     "metadata": {},
     "output_type": "execute_result"
    }
   ],
   "source": [
    "find_email_sent_days()"
   ]
  },
  {
   "cell_type": "markdown",
   "metadata": {},
   "source": [
    "We want to <b>Count Number of Messages From Each Email Address.</b> \n",
    "To do this we write a function <b>count_message_from_email</b> which reads the file. \n",
    "\n",
    "This function builds a histogram using a dictionary to count how many messages have come from each email address and returns the dictionary."
   ]
  },
  {
   "cell_type": "code",
   "execution_count": 10,
   "metadata": {},
   "outputs": [],
   "source": [
    "# Count Number of Messages From Each Email Address\n",
    "def count_message_from_email():\n",
    "    with open(\"/cxldata/datasets/project/mbox-short.txt\") as f:\n",
    "        result_dict = {}\n",
    "        for line in f:\n",
    "            if line.startswith(\"From \"):\n",
    "                line_list = line.split(\" \")\n",
    "                key = line_list[1]\n",
    "                if key in result_dict:\n",
    "                    result_dict[key] += 1\n",
    "                else:\n",
    "                    result_dict[key] = 1\n",
    "        return result_dict"
   ]
  },
  {
   "cell_type": "code",
   "execution_count": 11,
   "metadata": {},
   "outputs": [
    {
     "data": {
      "text/plain": [
       "{'stephen.marquard@uct.ac.za': 2,\n",
       " 'louis@media.berkeley.edu': 3,\n",
       " 'zqian@umich.edu': 4,\n",
       " 'rjlowe@iupui.edu': 2,\n",
       " 'cwen@iupui.edu': 5,\n",
       " 'gsilver@umich.edu': 3,\n",
       " 'wagnermr@iupui.edu': 1,\n",
       " 'antranig@caret.cam.ac.uk': 1,\n",
       " 'gopal.ramasammycook@gmail.com': 1,\n",
       " 'david.horwitz@uct.ac.za': 4,\n",
       " 'ray@media.berkeley.edu': 1}"
      ]
     },
     "execution_count": 11,
     "metadata": {},
     "output_type": "execute_result"
    }
   ],
   "source": [
    "count_message_from_email()"
   ]
  },
  {
   "cell_type": "markdown",
   "metadata": {},
   "source": [
    "We want to <b>Count Number of Messages From Each Domain</b>.\n",
    "We Write a function <b>count_message_from_domain</b> which reads the file.\n",
    "\n",
    "This function builds a histogram using a dictionary to count how many messages have come from each domain(Instead of from email address), and returns the dictionary."
   ]
  },
  {
   "cell_type": "code",
   "execution_count": 12,
   "metadata": {},
   "outputs": [],
   "source": [
    "# Count Number of Messages From Each Domain\n",
    "def count_message_from_domain():\n",
    "    with open(\"/cxldata/datasets/project/mbox-short.txt\") as f:\n",
    "        result_dict = {}\n",
    "        for line in f:\n",
    "            if line.startswith(\"From \"):\n",
    "                position = line.find(\"@\")\n",
    "                end_position = position+1\n",
    "                while (line[end_position] != \" \"):\n",
    "                    end_position += 1\n",
    "                \n",
    "                key = line[position+1:end_position]\n",
    "                if key in result_dict:\n",
    "                    result_dict[key] += 1\n",
    "                else:\n",
    "                    result_dict[key] = 1\n",
    "        return result_dict"
   ]
  },
  {
   "cell_type": "code",
   "execution_count": 13,
   "metadata": {},
   "outputs": [
    {
     "data": {
      "text/plain": [
       "{'uct.ac.za': 6,\n",
       " 'media.berkeley.edu': 4,\n",
       " 'umich.edu': 7,\n",
       " 'iupui.edu': 8,\n",
       " 'caret.cam.ac.uk': 1,\n",
       " 'gmail.com': 1}"
      ]
     },
     "execution_count": 13,
     "metadata": {},
     "output_type": "execute_result"
    }
   ],
   "source": [
    "count_message_from_domain()"
   ]
  }
 ],
 "metadata": {
  "kernelspec": {
   "display_name": "Python 3",
   "language": "python",
   "name": "python3"
  },
  "language_info": {
   "codemirror_mode": {
    "name": "ipython",
    "version": 3
   },
   "file_extension": ".py",
   "mimetype": "text/x-python",
   "name": "python",
   "nbconvert_exporter": "python",
   "pygments_lexer": "ipython3",
   "version": "3.7.6"
  },
  "toc": {
   "base_numbering": 1,
   "nav_menu": {},
   "number_sections": true,
   "sideBar": true,
   "skip_h1_title": false,
   "title_cell": "Table of Contents",
   "title_sidebar": "Contents",
   "toc_cell": false,
   "toc_position": {},
   "toc_section_display": true,
   "toc_window_display": false
  }
 },
 "nbformat": 4,
 "nbformat_minor": 2
}
